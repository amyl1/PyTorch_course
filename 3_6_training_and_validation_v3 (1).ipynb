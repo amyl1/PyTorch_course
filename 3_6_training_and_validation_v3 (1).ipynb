{
  "nbformat": 4,
  "nbformat_minor": 0,
  "metadata": {
    "kernelspec": {
      "display_name": "Python 3",
      "language": "python",
      "name": "python3"
    },
    "language_info": {
      "codemirror_mode": {
        "name": "ipython",
        "version": 3
      },
      "file_extension": ".py",
      "mimetype": "text/x-python",
      "name": "python",
      "nbconvert_exporter": "python",
      "pygments_lexer": "ipython3",
      "version": "3.7.6"
    },
    "colab": {
      "name": "3.6_training_and_validation_v3.ipynb",
      "provenance": []
    }
  },
  "cells": [
    {
      "cell_type": "markdown",
      "metadata": {
        "id": "ljECl2ZwcC-f"
      },
      "source": [
        "<center>\n",
        "    <img src=\"https://cf-courses-data.s3.us.cloud-object-storage.appdomain.cloud/IBMDeveloperSkillsNetwork-DL0110EN-SkillsNetwork/Template/module%201/images/IDSNlogo.png\" width=\"300\" alt=\"cognitiveclass.ai logo\"  />\n",
        "</center>\n"
      ]
    },
    {
      "cell_type": "markdown",
      "metadata": {
        "id": "AayPajLFcC-g"
      },
      "source": [
        "<h1>Linear regression: Training and Validation Data</h1> \n"
      ]
    },
    {
      "cell_type": "markdown",
      "metadata": {
        "id": "aL-rT-vbcC-h"
      },
      "source": [
        "<h2>Objective</h2><ul><li> How to use learning rate hyperparameter to improve your model result.  .</li></ul> \n"
      ]
    },
    {
      "cell_type": "markdown",
      "metadata": {
        "id": "aaQKLCaucC-h"
      },
      "source": [
        "<h2>Table of Contents</h2>\n",
        "<p>In this lab, you will learn to select the best learning rate by using validation data.</p>\n",
        "\n",
        "<ul>\n",
        "    <li><a href=\"#Makeup_Data\">Make Some Data</a></li>\n",
        "    <li><a href=\"#LR_Loader_Cost\">Create a Linear Regression Object, Data Loader and Criterion Function</a></li>\n",
        "    <li><a href=\"#LR_Hyper\">Different learning rates and Data Structures to Store results for Different Hyperparameters</a></li>\n",
        "    <li><a href=\"#Model\">Train different modules for different Hyperparameters</a></li>\n",
        "    <li><a href=\"#Result\">View Results</a></li>\n",
        "</ul>\n",
        "\n",
        "<p>Estimated Time Needed: <strong>30 min</strong></p>\n",
        "\n",
        "<hr>\n"
      ]
    },
    {
      "cell_type": "markdown",
      "metadata": {
        "id": "5lWXkoXXcC-i"
      },
      "source": [
        "<h2>Preparation</h2>\n"
      ]
    },
    {
      "cell_type": "markdown",
      "metadata": {
        "id": "Skhdbe7ZcC-i"
      },
      "source": [
        "We'll need the following libraries and set the random seed.\n"
      ]
    },
    {
      "cell_type": "code",
      "metadata": {
        "id": "DT8BQrHGcC-j"
      },
      "source": [
        "# Import libraries we need for this lab, and set the random seed\n",
        "\n",
        "from torch import nn\n",
        "import torch\n",
        "import numpy as np\n",
        "import matplotlib.pyplot as plt\n",
        "from torch import nn,optim"
      ],
      "execution_count": 1,
      "outputs": []
    },
    {
      "cell_type": "markdown",
      "metadata": {
        "id": "pG8tj97hcC-j"
      },
      "source": [
        "<!--Empty Space for separating topics-->\n"
      ]
    },
    {
      "cell_type": "markdown",
      "metadata": {
        "id": "c3H5TufScC-k"
      },
      "source": [
        "<h2 id=\"Makeup_Data\">Make Some Data</h2>\n"
      ]
    },
    {
      "cell_type": "markdown",
      "metadata": {
        "id": "XN0t67P3cC-k"
      },
      "source": [
        "First, we'll create some artificial data in a dataset class. The class will include the option to produce training data or validation data. The training data will include outliers.\n"
      ]
    },
    {
      "cell_type": "code",
      "metadata": {
        "id": "V9YbrHDfcC-k"
      },
      "source": [
        "# Create Data class\n",
        "\n",
        "from torch.utils.data import Dataset, DataLoader\n",
        "\n",
        "class Data(Dataset):\n",
        "    \n",
        "    # Constructor\n",
        "    def __init__(self, train = True):\n",
        "            self.x = torch.arange(-3, 3, 0.1).view(-1, 1)\n",
        "            self.f = -3 * self.x + 1\n",
        "            self.y = self.f + 0.1 * torch.randn(self.x.size())\n",
        "            self.len = self.x.shape[0]\n",
        "            \n",
        "            #outliers \n",
        "            if train == True:\n",
        "                self.y[0] = 0\n",
        "                self.y[50:55] = 20\n",
        "            else:\n",
        "                pass\n",
        "      \n",
        "    # Getter\n",
        "    def __getitem__(self, index):    \n",
        "        return self.x[index], self.y[index]\n",
        "    \n",
        "    # Get Length\n",
        "    def __len__(self):\n",
        "        return self.len"
      ],
      "execution_count": 2,
      "outputs": []
    },
    {
      "cell_type": "markdown",
      "metadata": {
        "id": "sCchqLbmcC-l"
      },
      "source": [
        "Create two objects: one that contains training data and a second that contains validation data. Assume that the training data has the outliers. \n"
      ]
    },
    {
      "cell_type": "code",
      "metadata": {
        "id": "qKGBg77_cC-l"
      },
      "source": [
        "# Create training dataset and validation dataset\n",
        "\n",
        "train_data = Data()\n",
        "val_data = Data(train = False)"
      ],
      "execution_count": 3,
      "outputs": []
    },
    {
      "cell_type": "markdown",
      "metadata": {
        "id": "iZSuTM0icC-l"
      },
      "source": [
        "Overlay the training points in red over the function that generated the data. Notice the outliers at x=-3 and around x=2:\n"
      ]
    },
    {
      "cell_type": "code",
      "metadata": {
        "colab": {
          "base_uri": "https://localhost:8080/",
          "height": 279
        },
        "id": "sBa6HNzIcC-m",
        "outputId": "66bfc6c3-ebd6-4039-c749-729053dbdf1a"
      },
      "source": [
        "# Plot out training points\n",
        "\n",
        "plt.plot(train_data.x.numpy(), train_data.y.numpy(), 'xr',label=\"training data \")\n",
        "plt.plot(train_data.x.numpy(), train_data.f.numpy(),label=\"true function  \")\n",
        "plt.xlabel('x')\n",
        "plt.ylabel('y')\n",
        "plt.legend()\n",
        "plt.show()"
      ],
      "execution_count": 4,
      "outputs": [
        {
          "output_type": "display_data",
          "data": {
            "image/png": "[encoded data removed]",
            "text/plain": [
              "<Figure size 432x288 with 1 Axes>"
            ]
          },
          "metadata": {
            "tags": [],
            "needs_background": "light"
          }
        }
      ]
    },
    {
      "cell_type": "markdown",
      "metadata": {
        "id": "jdKmEV_dcC-m"
      },
      "source": [
        "<!--Empty Space for separating topics-->\n"
      ]
    },
    {
      "cell_type": "markdown",
      "metadata": {
        "id": "e2E2VQ29cC-m"
      },
      "source": [
        "<h2 id=\"LR_Loader_Cost\">Create a Linear Regression Object,  Data Loader, and Criterion Function</h2>\n"
      ]
    },
    {
      "cell_type": "code",
      "metadata": {
        "id": "PpeUP-pTcC-m"
      },
      "source": [
        "# Create Linear Regression Class\n",
        "\n",
        "from torch import nn\n",
        "\n",
        "class linear_regression(nn.Module):\n",
        "    \n",
        "    # Constructor\n",
        "    def __init__(self, input_size, output_size):\n",
        "        super(linear_regression, self).__init__()\n",
        "        self.linear = nn.Linear(input_size, output_size)\n",
        "    \n",
        "    # Prediction function\n",
        "    def forward(self, x):\n",
        "        yhat = self.linear(x)\n",
        "        return yhat"
      ],
      "execution_count": 5,
      "outputs": []
    },
    {
      "cell_type": "markdown",
      "metadata": {
        "id": "3UyjYeP9cC-m"
      },
      "source": [
        "Create the criterion function and a <code>DataLoader</code> object: \n"
      ]
    },
    {
      "cell_type": "code",
      "metadata": {
        "id": "OejYvgBIcC-n"
      },
      "source": [
        "# Create MSELoss function and DataLoader\n",
        "\n",
        "criterion = nn.MSELoss()\n",
        "trainloader = DataLoader(dataset = train_data, batch_size = 1)"
      ],
      "execution_count": 6,
      "outputs": []
    },
    {
      "cell_type": "markdown",
      "metadata": {
        "id": "ayRBeyLwcC-n"
      },
      "source": [
        "<!--Empty Space for separating topics-->\n"
      ]
    },
    {
      "cell_type": "markdown",
      "metadata": {
        "id": "qaig3iw8cC-n"
      },
      "source": [
        "<h2 id=\"LR_Hyper\">Different learning rates and Data Structures to Store results for different Hyperparameters</h2>\n"
      ]
    },
    {
      "cell_type": "markdown",
      "metadata": {
        "id": "gFIxNqTrcC-n"
      },
      "source": [
        "Create a list with different learning rates and a tensor (can be a list) for the training and validating cost/total loss. Include the list MODELS, which stores the training model for every value of the learning rate. \n"
      ]
    },
    {
      "cell_type": "code",
      "metadata": {
        "id": "Ag3lNHI3cC-o"
      },
      "source": [
        "# Create Learning Rate list, the error lists and the MODELS list\n",
        "\n",
        "learning_rates=[0.0001, 0.001, 0.01, 0.1]\n",
        "\n",
        "train_error=torch.zeros(len(learning_rates))\n",
        "validation_error=torch.zeros(len(learning_rates))\n",
        "\n",
        "MODELS=[]"
      ],
      "execution_count": 7,
      "outputs": []
    },
    {
      "cell_type": "markdown",
      "metadata": {
        "id": "x_Alm8ZRcC-o"
      },
      "source": [
        "<!--Empty Space for separating topics-->\n"
      ]
    },
    {
      "cell_type": "markdown",
      "metadata": {
        "id": "ZfN6cSzPcC-o"
      },
      "source": [
        "<h2 id=\"Model\">Train different models  for different Hyperparameters</h2>\n"
      ]
    },
    {
      "cell_type": "markdown",
      "metadata": {
        "id": "UadfodurcC-o"
      },
      "source": [
        "Try different values of learning rates, perform stochastic gradient descent, and save the results on the training data and validation data. Finally, save each model in a list.\n"
      ]
    },
    {
      "cell_type": "code",
      "metadata": {
        "id": "Y_TxidaScC-p"
      },
      "source": [
        "# Define the train model function and train the model\n",
        "\n",
        "def train_model_with_lr (iter, lr_list):\n",
        "    \n",
        "    # iterate through different learning rates \n",
        "    for i, lr in enumerate(lr_list):\n",
        "        model = linear_regression(1, 1)\n",
        "        optimizer = optim.SGD(model.parameters(), lr = lr)\n",
        "        for epoch in range(iter):\n",
        "            for x, y in trainloader:\n",
        "                yhat = model(x)\n",
        "                loss = criterion(yhat, y)\n",
        "                optimizer.zero_grad()\n",
        "                loss.backward()\n",
        "                optimizer.step()\n",
        "                \n",
        "        # train data\n",
        "        Yhat = model(train_data.x)\n",
        "        train_loss = criterion(Yhat, train_data.y)\n",
        "        train_error[i] = train_loss.item()\n",
        "    \n",
        "        # validation data\n",
        "        Yhat = model(val_data.x)\n",
        "        val_loss = criterion(Yhat, val_data.y)\n",
        "        validation_error[i] = val_loss.item()\n",
        "        MODELS.append(model)\n",
        "\n",
        "train_model_with_lr(10, learning_rates)"
      ],
      "execution_count": 8,
      "outputs": []
    },
    {
      "cell_type": "markdown",
      "metadata": {
        "id": "vfbwAHsTcC-p"
      },
      "source": [
        "<!--Empty Space for separating topics-->\n"
      ]
    },
    {
      "cell_type": "markdown",
      "metadata": {
        "id": "m2wd3AO6cC-p"
      },
      "source": [
        "<h2 id=\"Result\">View the Results</h2>\n"
      ]
    },
    {
      "cell_type": "markdown",
      "metadata": {
        "id": "DZwtCPNUcC-p"
      },
      "source": [
        "Plot the training loss and validation loss for each learning rate:  \n"
      ]
    },
    {
      "cell_type": "code",
      "metadata": {
        "colab": {
          "base_uri": "https://localhost:8080/",
          "height": 283
        },
        "id": "Iyi49LG7cC-q",
        "outputId": "16d2913d-9fc0-4623-ec29-6dc5bb993951"
      },
      "source": [
        "# Plot the training loss and validation loss\n",
        "\n",
        "plt.semilogx(np.array(learning_rates), train_error.numpy(), label = 'training loss/total Loss')\n",
        "plt.semilogx(np.array(learning_rates), validation_error.numpy(), label = 'validation cost/total Loss')\n",
        "plt.ylabel('Cost\\ Total Loss')\n",
        "plt.xlabel('learning rate')\n",
        "plt.legend()\n",
        "plt.show()"
      ],
      "execution_count": 9,
      "outputs": [
        {
          "output_type": "display_data",
          "data": {
            "image/png": "[encoded data removed]",
            "text/plain": [
              "<Figure size 432x288 with 1 Axes>"
            ]
          },
          "metadata": {
            "tags": [],
            "needs_background": "light"
          }
        }
      ]
    },
    {
      "cell_type": "markdown",
      "metadata": {
        "id": "8FwxtiwncC-q"
      },
      "source": [
        "Produce a prediction by using the validation data for each model:  \n"
      ]
    },
    {
      "cell_type": "code",
      "metadata": {
        "colab": {
          "base_uri": "https://localhost:8080/",
          "height": 483
        },
        "id": "i2NGanG3cC-q",
        "outputId": "af916148-7dd7-4cb1-e903-b0deb01dc9c4"
      },
      "source": [
        "# Plot the predictions\n",
        "\n",
        "i = 0\n",
        "for model, learning_rate in zip(MODELS, learning_rates):\n",
        "    yhat = model(val_data.x)\n",
        "    plt.plot(val_data.x.numpy(), yhat.detach().numpy(), label = 'lr:' + str(learning_rate))\n",
        "    print('i', yhat.detach().numpy()[0:3])\n",
        "plt.plot(val_data.x.numpy(), val_data.f.numpy(), 'or', label = 'validation data')\n",
        "plt.xlabel('x')\n",
        "plt.ylabel('y')\n",
        "plt.legend()\n",
        "plt.show()"
      ],
      "execution_count": 10,
      "outputs": [
        {
          "output_type": "stream",
          "text": [
            "i [[1.5272274]\n",
            " [1.49963  ]\n",
            " [1.4720328]]\n",
            "i [[5.3354187]\n",
            " [5.2205296]\n",
            " [5.1056404]]\n",
            "i [[6.5981884]\n",
            " [6.4637914]\n",
            " [6.3293943]]\n",
            "i [[14.710154]\n",
            " [14.267061]\n",
            " [13.823967]]\n"
          ],
          "name": "stdout"
        },
        {
          "output_type": "display_data",
          "data": {
            "image/png": "[encoded data removed]",
            "text/plain": [
              "<Figure size 432x288 with 1 Axes>"
            ]
          },
          "metadata": {
            "tags": [],
            "needs_background": "light"
          }
        }
      ]
    },
    {
      "cell_type": "markdown",
      "metadata": {
        "id": "JX7FQ_NAcC-q"
      },
      "source": [
        "<!--Empty Space for separating topics-->\n"
      ]
    },
    {
      "cell_type": "markdown",
      "metadata": {
        "id": "v-fxN7TfcC-q"
      },
      "source": [
        "<h3>Practice</h3>\n"
      ]
    },
    {
      "cell_type": "markdown",
      "metadata": {
        "id": "qJO6fPzxcC-r"
      },
      "source": [
        "The object <code>good_model</code> is the best performing model. Use the train loader to get the data samples x and y. Produce an estimate for <code>yhat</code> and print it out for every sample in a for a loop. Compare it to the actual prediction <code>y</code>.\n"
      ]
    },
    {
      "cell_type": "code",
      "metadata": {
        "colab": {
          "base_uri": "https://localhost:8080/"
        },
        "id": "CNO3KfO2cJRR",
        "outputId": "ac675696-08b9-43f2-b4d8-74df4c8e9dab"
      },
      "source": [
        "good_model=MODELS[0]\n",
        "for x, y in trainloader:\n",
        "    print(\"yhat= \", good_model(x),\"y\", y)"
      ],
      "execution_count": 14,
      "outputs": [
        {
          "output_type": "stream",
          "text": [
            "yhat=  tensor([[1.5272]], grad_fn=<AddmmBackward>) y tensor([[0.]])\n",
            "yhat=  tensor([[1.4996]], grad_fn=<AddmmBackward>) y tensor([[9.7197]])\n",
            "yhat=  tensor([[1.4720]], grad_fn=<AddmmBackward>) y tensor([[9.4894]])\n",
            "yhat=  tensor([[1.4444]], grad_fn=<AddmmBackward>) y tensor([[8.9305]])\n",
            "yhat=  tensor([[1.4168]], grad_fn=<AddmmBackward>) y tensor([[8.8746]])\n",
            "yhat=  tensor([[1.3892]], grad_fn=<AddmmBackward>) y tensor([[8.4861]])\n",
            "yhat=  tensor([[1.3616]], grad_fn=<AddmmBackward>) y tensor([[8.4247]])\n",
            "yhat=  tensor([[1.3340]], grad_fn=<AddmmBackward>) y tensor([[7.9287]])\n",
            "yhat=  tensor([[1.3064]], grad_fn=<AddmmBackward>) y tensor([[7.5711]])\n",
            "yhat=  tensor([[1.2789]], grad_fn=<AddmmBackward>) y tensor([[7.2733]])\n",
            "yhat=  tensor([[1.2513]], grad_fn=<AddmmBackward>) y tensor([[7.0680]])\n",
            "yhat=  tensor([[1.2237]], grad_fn=<AddmmBackward>) y tensor([[6.6194]])\n",
            "yhat=  tensor([[1.1961]], grad_fn=<AddmmBackward>) y tensor([[6.3427]])\n",
            "yhat=  tensor([[1.1685]], grad_fn=<AddmmBackward>) y tensor([[5.9601]])\n",
            "yhat=  tensor([[1.1409]], grad_fn=<AddmmBackward>) y tensor([[5.7688]])\n",
            "yhat=  tensor([[1.1133]], grad_fn=<AddmmBackward>) y tensor([[5.5021]])\n",
            "yhat=  tensor([[1.0857]], grad_fn=<AddmmBackward>) y tensor([[5.0917]])\n",
            "yhat=  tensor([[1.0581]], grad_fn=<AddmmBackward>) y tensor([[5.0960]])\n",
            "yhat=  tensor([[1.0305]], grad_fn=<AddmmBackward>) y tensor([[4.5521]])\n",
            "yhat=  tensor([[1.0029]], grad_fn=<AddmmBackward>) y tensor([[4.3660]])\n",
            "yhat=  tensor([[0.9753]], grad_fn=<AddmmBackward>) y tensor([[3.9901]])\n",
            "yhat=  tensor([[0.9477]], grad_fn=<AddmmBackward>) y tensor([[3.5763]])\n",
            "yhat=  tensor([[0.9201]], grad_fn=<AddmmBackward>) y tensor([[3.5164]])\n",
            "yhat=  tensor([[0.8925]], grad_fn=<AddmmBackward>) y tensor([[3.1808]])\n",
            "yhat=  tensor([[0.8649]], grad_fn=<AddmmBackward>) y tensor([[2.8427]])\n",
            "yhat=  tensor([[0.8373]], grad_fn=<AddmmBackward>) y tensor([[2.6184]])\n",
            "yhat=  tensor([[0.8097]], grad_fn=<AddmmBackward>) y tensor([[2.0493]])\n",
            "yhat=  tensor([[0.7821]], grad_fn=<AddmmBackward>) y tensor([[1.8254]])\n",
            "yhat=  tensor([[0.7545]], grad_fn=<AddmmBackward>) y tensor([[1.5111]])\n",
            "yhat=  tensor([[0.7269]], grad_fn=<AddmmBackward>) y tensor([[1.3746]])\n",
            "yhat=  tensor([[0.6993]], grad_fn=<AddmmBackward>) y tensor([[1.0299]])\n",
            "yhat=  tensor([[0.6717]], grad_fn=<AddmmBackward>) y tensor([[0.8474]])\n",
            "yhat=  tensor([[0.6441]], grad_fn=<AddmmBackward>) y tensor([[0.2296]])\n",
            "yhat=  tensor([[0.6165]], grad_fn=<AddmmBackward>) y tensor([[0.2644]])\n",
            "yhat=  tensor([[0.5889]], grad_fn=<AddmmBackward>) y tensor([[-0.0520]])\n",
            "yhat=  tensor([[0.5613]], grad_fn=<AddmmBackward>) y tensor([[-0.5787]])\n",
            "yhat=  tensor([[0.5337]], grad_fn=<AddmmBackward>) y tensor([[-0.7207]])\n",
            "yhat=  tensor([[0.5061]], grad_fn=<AddmmBackward>) y tensor([[-1.1053]])\n",
            "yhat=  tensor([[0.4785]], grad_fn=<AddmmBackward>) y tensor([[-1.4683]])\n",
            "yhat=  tensor([[0.4509]], grad_fn=<AddmmBackward>) y tensor([[-1.7757]])\n",
            "yhat=  tensor([[0.4233]], grad_fn=<AddmmBackward>) y tensor([[-1.8873]])\n",
            "yhat=  tensor([[0.3957]], grad_fn=<AddmmBackward>) y tensor([[-2.4028]])\n",
            "yhat=  tensor([[0.3681]], grad_fn=<AddmmBackward>) y tensor([[-2.8152]])\n",
            "yhat=  tensor([[0.3405]], grad_fn=<AddmmBackward>) y tensor([[-3.0241]])\n",
            "yhat=  tensor([[0.3129]], grad_fn=<AddmmBackward>) y tensor([[-3.4086]])\n",
            "yhat=  tensor([[0.2853]], grad_fn=<AddmmBackward>) y tensor([[-3.6134]])\n",
            "yhat=  tensor([[0.2578]], grad_fn=<AddmmBackward>) y tensor([[-3.8910]])\n",
            "yhat=  tensor([[0.2302]], grad_fn=<AddmmBackward>) y tensor([[-4.0403]])\n",
            "yhat=  tensor([[0.2026]], grad_fn=<AddmmBackward>) y tensor([[-4.2215]])\n",
            "yhat=  tensor([[0.1750]], grad_fn=<AddmmBackward>) y tensor([[-4.6347]])\n",
            "yhat=  tensor([[0.1474]], grad_fn=<AddmmBackward>) y tensor([[20.]])\n",
            "yhat=  tensor([[0.1198]], grad_fn=<AddmmBackward>) y tensor([[20.]])\n",
            "yhat=  tensor([[0.0922]], grad_fn=<AddmmBackward>) y tensor([[20.]])\n",
            "yhat=  tensor([[0.0646]], grad_fn=<AddmmBackward>) y tensor([[20.]])\n",
            "yhat=  tensor([[0.0370]], grad_fn=<AddmmBackward>) y tensor([[20.]])\n",
            "yhat=  tensor([[0.0094]], grad_fn=<AddmmBackward>) y tensor([[-6.6267]])\n",
            "yhat=  tensor([[-0.0182]], grad_fn=<AddmmBackward>) y tensor([[-6.8899]])\n",
            "yhat=  tensor([[-0.0458]], grad_fn=<AddmmBackward>) y tensor([[-7.1845]])\n",
            "yhat=  tensor([[-0.0734]], grad_fn=<AddmmBackward>) y tensor([[-7.2363]])\n",
            "yhat=  tensor([[-0.1010]], grad_fn=<AddmmBackward>) y tensor([[-7.6994]])\n"
          ],
          "name": "stdout"
        }
      ]
    },
    {
      "cell_type": "markdown",
      "metadata": {
        "id": "EgAnA3oFcC-r"
      },
      "source": [
        "Double-click <b>here</b> for the solution.\n",
        "\n",
        "<!-- \n",
        "for x, y in trainloader:\n",
        "    print(\"yhat= \", good_model(x),\"y\", y)\n",
        "-->\n"
      ]
    },
    {
      "cell_type": "markdown",
      "metadata": {
        "id": "zPvgsgNVcC-r"
      },
      "source": [
        "<a href=\"https://dataplatform.cloud.ibm.com/registration/stepone?context=cpdaas&apps=data_science_experience,watson_machine_learning\"><img src=\"https://cf-courses-data.s3.us.cloud-object-storage.appdomain.cloud/IBMDeveloperSkillsNetwork-DL0110EN-SkillsNetwork/Template/module%201/images/Watson_Studio.png\"/></a>\n"
      ]
    },
    {
      "cell_type": "markdown",
      "metadata": {
        "id": "7oU4CQ8hcC-r"
      },
      "source": [
        "<!--Empty Space for separating topics-->\n"
      ]
    },
    {
      "cell_type": "markdown",
      "metadata": {
        "id": "T0tAwrMVcC-r"
      },
      "source": [
        "<h2>About the Authors:</h2> \n",
        "\n",
        "<a href=\"https://www.linkedin.com/in/joseph-s-50398b136/\">Joseph Santarcangelo</a> has a PhD in Electrical Engineering, his research focused on using machine learning, signal processing, and computer vision to determine how videos impact human cognition. Joseph has been working for IBM since he completed his PhD. \n"
      ]
    },
    {
      "cell_type": "markdown",
      "metadata": {
        "id": "9y3zYzzacC-s"
      },
      "source": [
        "Other contributors: <a href=\"https://www.linkedin.com/in/michelleccarey/\">Michelle Carey</a>, <a href=\"www.linkedin.com/in/jiahui-mavis-zhou-a4537814a\">Mavis Zhou</a>\n"
      ]
    },
    {
      "cell_type": "markdown",
      "metadata": {
        "id": "SfCkobnPcC-s"
      },
      "source": [
        "## Change Log\n",
        "\n",
        "| Date (YYYY-MM-DD) | Version | Changed By | Change Description                                          |\n",
        "| ----------------- | ------- | ---------- | ----------------------------------------------------------- |\n",
        "| 2020-09-23        | 2.0     | Shubham    | Migrated Lab to Markdown and added to course repo in GitLab |\n"
      ]
    },
    {
      "cell_type": "markdown",
      "metadata": {
        "id": "HV6T2njIcC-s"
      },
      "source": [
        "<hr>\n"
      ]
    },
    {
      "cell_type": "markdown",
      "metadata": {
        "id": "WRVXAiAMcC-s"
      },
      "source": [
        "## <h3 align=\"center\"> © IBM Corporation 2020. All rights reserved. <h3/>\n"
      ]
    }
  ]
}